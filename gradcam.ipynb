{
 "cells": [
  {
   "cell_type": "code",
   "execution_count": null,
   "outputs": [],
   "source": [
    "import monai\n",
    "import torch\n",
    "import medmnist\n",
    "from acsconv.converters import ACSConverter\n",
    "from medcam import medcam\n",
    "from medmnist import INFO, Evaluator\n",
    "\n",
    "from experiments.MedMNIST3D.models import ResNet18\n",
    "from experiments.MedMNIST3D.utils import Transform3D, model_to_syncbn"
   ],
   "metadata": {
    "collapsed": false,
    "pycharm": {
     "is_executing": true
    }
   }
  },
  {
   "cell_type": "code",
   "execution_count": null,
   "metadata": {
    "collapsed": true,
    "pycharm": {
     "is_executing": true
    }
   },
   "outputs": [],
   "source": [
    "MODEL_PATH = \"./output/organmnist3d/resnet18/best_model.pth\"\n",
    "BATCH_SIZE = 1\n",
    "\n",
    "device = torch.device(\"cuda:0\" if torch.cuda.is_available() else \"cpu\")\n",
    "\n",
    "dataset_name: str = \"organmnist3d\"\n",
    "download: bool = True\n",
    "\n",
    "info = INFO[dataset_name]\n",
    "num_classes = len(info[\"label\"])\n",
    "DataClass = getattr(medmnist, info['python_class'])\n",
    "\n",
    "train_transform = Transform3D()\n",
    "eval_transform = Transform3D()\n",
    "\n",
    "test_dataset = DataClass(split='test', transform=eval_transform, download=download, as_rgb=False)\n",
    "test_loader = monai.data.DataLoader(dataset=test_dataset,\n",
    "                            batch_size=BATCH_SIZE,\n",
    "                            shuffle=False)\n",
    "model = ResNet18(num_classes=num_classes, in_channels=1)\n",
    "model = model_to_syncbn(ACSConverter(model))\n",
    "model = medcam.inject(model, output_dir=\"attention_maps\", save_maps=True)\n",
    "model.load_state_dict(torch.load(MODEL_PATH, map_location=device)['net'], strict=True)"
   ]
  },
  {
   "cell_type": "code",
   "execution_count": null,
   "outputs": [],
   "source": [
    "image_batch, batch_labels = next(test_loader.__iter__())\n",
    "model.eval()\n",
    "tep = model(image_batch)\n",
    "print(tep)"
   ],
   "metadata": {
    "collapsed": false,
    "pycharm": {
     "is_executing": true
    }
   }
  }
 ],
 "metadata": {
  "kernelspec": {
   "display_name": "Python 3",
   "language": "python",
   "name": "python3"
  },
  "language_info": {
   "codemirror_mode": {
    "name": "ipython",
    "version": 2
   },
   "file_extension": ".py",
   "mimetype": "text/x-python",
   "name": "python",
   "nbconvert_exporter": "python",
   "pygments_lexer": "ipython2",
   "version": "2.7.6"
  }
 },
 "nbformat": 4,
 "nbformat_minor": 0
}
