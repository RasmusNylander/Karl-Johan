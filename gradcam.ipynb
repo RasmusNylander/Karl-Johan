{
 "cells": [
  {
   "cell_type": "code",
   "execution_count": 1,
   "outputs": [
    {
     "name": "stderr",
     "output_type": "stream",
     "text": [
      "C:\\Users\\Nylan\\projekter\\Karl-Johan\\venv\\lib\\site-packages\\tqdm\\auto.py:22: TqdmWarning: IProgress not found. Please update jupyter and ipywidgets. See https://ipywidgets.readthedocs.io/en/stable/user_install.html\n",
      "  from .autonotebook import tqdm as notebook_tqdm\n"
     ]
    },
    {
     "name": "stdout",
     "output_type": "stream",
     "text": [
      "The ``converters`` are currently experimental. It may not support operations including (but not limited to) Functions in ``torch.nn.functional`` that involved data dimension\n"
     ]
    }
   ],
   "source": [
    "import monai\n",
    "import torch\n",
    "import medmnist\n",
    "from acsconv.converters import ACSConverter\n",
    "from medcam import medcam\n",
    "from medmnist import INFO, Evaluator\n",
    "from plot_image import plot_image\n",
    "\n",
    "from experiments.MedMNIST3D.models import ResNet18\n",
    "from experiments.MedMNIST3D.utils import Transform3D, model_to_syncbn"
   ],
   "metadata": {
    "collapsed": false
   }
  },
  {
   "cell_type": "code",
   "execution_count": 2,
   "metadata": {
    "collapsed": true
   },
   "outputs": [
    {
     "name": "stdout",
     "output_type": "stream",
     "text": [
      "Using downloaded and verified file: C:\\Users\\Nylan\\.medmnist\\organmnist3d.npz\n"
     ]
    },
    {
     "data": {
      "text/plain": "<All keys matched successfully>"
     },
     "execution_count": 2,
     "metadata": {},
     "output_type": "execute_result"
    }
   ],
   "source": [
    "MODEL_PATH = \"./output/organmnist3d/resnet18/best_model.pth\"\n",
    "BATCH_SIZE = 1\n",
    "\n",
    "device = torch.device(\"cuda:0\" if torch.cuda.is_available() else \"cpu\")\n",
    "\n",
    "dataset_name: str = \"organmnist3d\"\n",
    "download: bool = True\n",
    "\n",
    "info = INFO[dataset_name]\n",
    "num_classes = len(info[\"label\"])\n",
    "DataClass = getattr(medmnist, info['python_class'])\n",
    "\n",
    "train_transform = Transform3D()\n",
    "eval_transform = Transform3D()\n",
    "\n",
    "test_dataset = DataClass(split='test', transform=eval_transform, download=download, as_rgb=False)\n",
    "test_loader = monai.data.DataLoader(dataset=test_dataset,\n",
    "                            batch_size=BATCH_SIZE,\n",
    "                            shuffle=False)\n",
    "model = ResNet18(num_classes=num_classes, in_channels=1)\n",
    "model = model_to_syncbn(ACSConverter(model))\n",
    "model = medcam.inject(model, output_dir=\"attention_maps\", save_maps=True, return_attention=True, layer=\"layer1\")\n",
    "model.load_state_dict(torch.load(MODEL_PATH, map_location=device)['net'], strict=True)"
   ]
  },
  {
   "cell_type": "code",
   "execution_count": 6,
   "outputs": [],
   "source": [
    "import numpy as np\n",
    "from monai.data.nifti_writer import nib\n",
    "\n",
    "image_batch, batch_labels = next(test_loader.__iter__())\n",
    "model.eval()\n",
    "\n",
    "predictions, attention_maps = model(image_batch)\n",
    "\n",
    "for id, image in enumerate(image_batch):\n",
    "    first_channel = image[0]\n",
    "    first_channel = first_channel.numpy().transpose(1, 2, 0)\n",
    "    first_channel = nib.Nifti1Image(first_channel, affine=np.eye(4))\n",
    "    nib.save(first_channel, f\"attention_maps/image{id}\" + \".nii\")\n",
    "\n",
    "\n",
    "for id, attention_map in enumerate(attention_maps):\n",
    "    first_channel = attention_map[0]\n",
    "    first_channel = first_channel.numpy().transpose(1, 2, 0)\n",
    "    first_channel = nib.Nifti1Image(first_channel, affine=np.eye(4))\n",
    "    nib.save(first_channel, f\"attention_maps/attention_map_{id}\" + \".nii\")\n"
   ],
   "metadata": {
    "collapsed": false
   }
  },
  {
   "cell_type": "code",
   "execution_count": null,
   "outputs": [],
   "source": [],
   "metadata": {
    "collapsed": false
   }
  }
 ],
 "metadata": {
  "kernelspec": {
   "display_name": "Python 3",
   "language": "python",
   "name": "python3"
  },
  "language_info": {
   "codemirror_mode": {
    "name": "ipython",
    "version": 2
   },
   "file_extension": ".py",
   "mimetype": "text/x-python",
   "name": "python",
   "nbconvert_exporter": "python",
   "pygments_lexer": "ipython2",
   "version": "2.7.6"
  }
 },
 "nbformat": 4,
 "nbformat_minor": 0
}
